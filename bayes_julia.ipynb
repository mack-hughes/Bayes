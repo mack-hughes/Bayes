{
 "cells": [
  {
   "attachments": {},
   "cell_type": "markdown",
   "metadata": {},
   "source": [
    "For independents events $P(A|B)=P(A\\cup B) = P(A)P(B)$, this leads us to $$P(A|B)=\\dfrac{P(B|A)P(A)}{P(B)}.$$\n",
    "e.g. $P(A)$ refer to the probability of it has cancer and $P(B)$ the probability of the exam be positive, which means that $P(A|B)$ should be readed as the ptobability of have cancer such that the exam gave positive. Note that we usually rewrite the expression above as $$P(A|B)=\\dfrac{P(B|A)P(A)}{\\sum_i P(B|A_i)P(A_i)}.$$\n",
    "We can generalize even more to be able to consider more than one event $$P(C_i|x_1,x_2,...,x_n)=\\dfrac{P(x_1,x_2,...,X_n|C_i).P(C_i)}{P(x_1,x_2,...,x_n)}.$$"
   ]
  },
  {
   "attachments": {},
   "cell_type": "markdown",
   "metadata": {},
   "source": [
    "When we have discrete number, we can use the <ins>MultinomialNB</ins> function. <br>\n",
    "When the data nis discrete and binary we use the <ins>BernouliNB</ins> function. <br>\n",
    "When the values are continuous we can use the <ins>GaussianNB</ins> function. \n"
   ]
  },
  {
   "attachments": {},
   "cell_type": "markdown",
   "metadata": {},
   "source": [
    "The Laplace suavization method is used when we can have an event which probability is zero, in this case unfortunately this unique zero is able to \"destroy\" our entire model\n",
    "$$\\hat\\theta_i = \\dfrac{x_i+\\alpha}{N+\\alpha d} \\qquad (i=1,...,d)$$\n",
    "where the $\\theta$ is the new smoothing parameter, $x_i$ is the observations of this parameter, $\\alpha$ is the smothing it is usually equal to $1$, $N$ is the total occurrence."
   ]
  }
 ],
 "metadata": {
  "kernelspec": {
   "display_name": "Julia 1.8.3",
   "language": "julia",
   "name": "julia-1.8"
  },
  "language_info": {
   "file_extension": ".jl",
   "mimetype": "application/julia",
   "name": "julia",
   "version": "1.8.3"
  },
  "orig_nbformat": 4
 },
 "nbformat": 4,
 "nbformat_minor": 2
}
